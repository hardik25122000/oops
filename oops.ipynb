{
  "nbformat": 4,
  "nbformat_minor": 0,
  "metadata": {
    "colab": {
      "provenance": []
    },
    "kernelspec": {
      "name": "python3",
      "display_name": "Python 3"
    },
    "language_info": {
      "name": "python"
    }
  },
  "cells": [
    {
      "cell_type": "code",
      "execution_count": 1,
      "metadata": {
        "id": "4zk9lH_HkcJO"
      },
      "outputs": [],
      "source": [
        "# Bank Account Create a class representing a bank account with attributes like account number, account holder name, and balance. Implement methods to deposit and withdraw money from the account."
      ]
    },
    {
      "cell_type": "code",
      "source": [
        "class BankAccount:\n",
        "    def __init__(self, account_number, account_holder_name, balance=0):\n",
        "        self.account_number = account_number\n",
        "        self.account_holder_name = account_holder_name\n",
        "        self.balance = balance\n",
        "\n",
        "    def deposit(self, amount):\n",
        "        if amount > 0:\n",
        "            self.balance += amount\n",
        "            print(f\"Deposited ${amount}. Current balance: ${self.balance}\")\n",
        "        else:\n",
        "            print(\"Invalid deposit amount. Please deposit a positive amount.\")\n",
        "\n",
        "    def withdraw(self, amount):\n",
        "        if 0 < amount <= self.balance:\n",
        "            self.balance -= amount\n",
        "            print(f\"Withdrew ${amount}. Current balance: ${self.balance}\")\n",
        "        else:\n",
        "            print(\"Insufficient funds or invalid withdrawal amount.\")\n",
        "\n",
        "    def display_balance(self):\n",
        "        print(f\"Account Holder: {self.account_holder_name}\")\n",
        "        print(f\"Account Number: {self.account_number}\")\n",
        "        print(f\"Current Balance: ${self.balance}\")\n",
        "\n",
        "\n",
        "# Example usage:\n",
        "if __name__ == \"__main__\":\n",
        "    # Create a bank account object\n",
        "    account = BankAccount(\"123456789\", \"John Doe\", balance=1000)\n",
        "\n",
        "    # Display initial account balance\n",
        "    account.display_balance()\n",
        "\n",
        "    # Deposit money\n",
        "    account.deposit(500)\n",
        "\n",
        "    # Withdraw money\n",
        "    account.withdraw(200)\n",
        "\n",
        "    # Display updated account balance\n",
        "    account.display_balance()\n"
      ],
      "metadata": {
        "colab": {
          "base_uri": "https://localhost:8080/"
        },
        "id": "xRzCPP0Sk1os",
        "outputId": "8be25a66-be82-4681-a90b-811a320b1e44"
      },
      "execution_count": 2,
      "outputs": [
        {
          "output_type": "stream",
          "name": "stdout",
          "text": [
            "Account Holder: John Doe\n",
            "Account Number: 123456789\n",
            "Current Balance: $1000\n",
            "Deposited $500. Current balance: $1500\n",
            "Withdrew $200. Current balance: $1300\n",
            "Account Holder: John Doe\n",
            "Account Number: 123456789\n",
            "Current Balance: $1300\n"
          ]
        }
      ]
    },
    {
      "cell_type": "code",
      "source": [
        "#Employee Management Create a class representing an employee with attributes like employee ID, name, and salary. Implement methods to calculate the yearly bonus and display employee details."
      ],
      "metadata": {
        "id": "h60WpR8zk_Wm"
      },
      "execution_count": 3,
      "outputs": []
    },
    {
      "cell_type": "code",
      "source": [
        "class Employee:\n",
        "    def __init__(self, employee_id, name, salary):\n",
        "        self.employee_id = employee_id\n",
        "        self.name = name\n",
        "        self.salary = salary\n",
        "\n",
        "    def calculate_yearly_bonus(self, bonus_percentage):\n",
        "        bonus_amount = (bonus_percentage / 100) * self.salary\n",
        "        return bonus_amount\n",
        "\n",
        "    def display_details(self):\n",
        "        print(f\"Employee ID: {self.employee_id}\")\n",
        "        print(f\"Name: {self.name}\")\n",
        "        print(f\"Salary: ${self.salary:.2f}\")\n",
        "\n",
        "\n",
        "# Example usage:\n",
        "if __name__ == \"__main__\":\n",
        "    # Create an employee object\n",
        "    employee = Employee(\"E123456\", \"John Doe\", 50000)\n",
        "\n",
        "    # Display employee details\n",
        "    print(\"Employee Details:\")\n",
        "    employee.display_details()\n",
        "\n",
        "    # Calculate and display yearly bonus\n",
        "    bonus_percentage = 10  # Assuming a 10% yearly bonus\n",
        "    yearly_bonus = employee.calculate_yearly_bonus(bonus_percentage)\n",
        "    print(f\"Yearly Bonus: ${yearly_bonus:.2f}\")\n"
      ],
      "metadata": {
        "colab": {
          "base_uri": "https://localhost:8080/"
        },
        "id": "CyWmjYpflHOZ",
        "outputId": "a0c3462a-51e8-42bc-91e4-72fde76ec96f"
      },
      "execution_count": 4,
      "outputs": [
        {
          "output_type": "stream",
          "name": "stdout",
          "text": [
            "Employee Details:\n",
            "Employee ID: E123456\n",
            "Name: John Doe\n",
            "Salary: $50000.00\n",
            "Yearly Bonus: $5000.00\n"
          ]
        }
      ]
    },
    {
      "cell_type": "code",
      "source": [
        "#Vehicle Rental Create a class representing a vehicle rental system. Implement methods to rent a vehicle, return a vehicle, and display available vehicles."
      ],
      "metadata": {
        "id": "_n1gbwd-lPGD"
      },
      "execution_count": 5,
      "outputs": []
    },
    {
      "cell_type": "code",
      "source": [
        "class VehicleRentalSystem:\n",
        "    def __init__(self):\n",
        "        self.available_vehicles = {}\n",
        "\n",
        "    def rent_vehicle(self, vehicle_id, vehicle_name):\n",
        "        if vehicle_id in self.available_vehicles:\n",
        "            del self.available_vehicles[vehicle_id]\n",
        "            print(f\"{vehicle_name} with ID {vehicle_id} rented successfully.\")\n",
        "        else:\n",
        "            print(\"Vehicle not available for rental.\")\n",
        "\n",
        "    def return_vehicle(self, vehicle_id, vehicle_name):\n",
        "        self.available_vehicles[vehicle_id] = vehicle_name\n",
        "        print(f\"{vehicle_name} with ID {vehicle_id} returned successfully.\")\n",
        "\n",
        "    def display_available_vehicles(self):\n",
        "        if self.available_vehicles:\n",
        "            print(\"Available Vehicles:\")\n",
        "            for vehicle_id, vehicle_name in self.available_vehicles.items():\n",
        "                print(f\"ID: {vehicle_id}, Name: {vehicle_name}\")\n",
        "        else:\n",
        "            print(\"No vehicles available for rental.\")\n",
        "\n",
        "\n",
        "# Example usage:\n",
        "if __name__ == \"__main__\":\n",
        "    # Create a vehicle rental system object\n",
        "    rental_system = VehicleRentalSystem()\n",
        "\n",
        "    # Add some vehicles to the system\n",
        "    rental_system.available_vehicles = {\n",
        "        \"V001\": \"Toyota Corolla\",\n",
        "        \"V002\": \"Honda Civic\",\n",
        "        \"V003\": \"Ford Mustang\"\n",
        "    }\n",
        "\n",
        "    # Display available vehicles\n",
        "    rental_system.display_available_vehicles()\n",
        "\n",
        "    # Rent a vehicle\n",
        "    rental_system.rent_vehicle(\"V002\", \"Honda Civic\")\n",
        "\n",
        "    # Display available vehicles after renting\n",
        "    rental_system.display_available_vehicles()\n",
        "\n",
        "    # Return a vehicle\n",
        "    rental_system.return_vehicle(\"V002\", \"Honda Civic\")\n",
        "\n",
        "    # Display available vehicles after returning\n",
        "    rental_system.display_available_vehicles()\n"
      ],
      "metadata": {
        "colab": {
          "base_uri": "https://localhost:8080/"
        },
        "id": "E0V6GK0KlSiy",
        "outputId": "6b28a94a-f8b9-44e0-c6fb-c3f35640c90c"
      },
      "execution_count": 6,
      "outputs": [
        {
          "output_type": "stream",
          "name": "stdout",
          "text": [
            "Available Vehicles:\n",
            "ID: V001, Name: Toyota Corolla\n",
            "ID: V002, Name: Honda Civic\n",
            "ID: V003, Name: Ford Mustang\n",
            "Honda Civic with ID V002 rented successfully.\n",
            "Available Vehicles:\n",
            "ID: V001, Name: Toyota Corolla\n",
            "ID: V003, Name: Ford Mustang\n",
            "Honda Civic with ID V002 returned successfully.\n",
            "Available Vehicles:\n",
            "ID: V001, Name: Toyota Corolla\n",
            "ID: V003, Name: Ford Mustang\n",
            "ID: V002, Name: Honda Civic\n"
          ]
        }
      ]
    },
    {
      "cell_type": "code",
      "source": [
        "#Library Catalog Create classes representing a library and a book. Implement methods to add books to the library, borrow books, and display available books."
      ],
      "metadata": {
        "id": "YUT5spOIlZ1k"
      },
      "execution_count": 7,
      "outputs": []
    },
    {
      "cell_type": "code",
      "source": [
        "class Book:\n",
        "    def __init__(self, title, author):\n",
        "        self.title = title\n",
        "        self.author = author\n",
        "        self.is_borrowed = False\n",
        "\n",
        "    def borrow(self):\n",
        "        if not self.is_borrowed:\n",
        "            self.is_borrowed = True\n",
        "            print(f\"Book '{self.title}' by {self.author} has been borrowed.\")\n",
        "        else:\n",
        "            print(f\"Book '{self.title}' is already borrowed.\")\n",
        "\n",
        "    def return_book(self):\n",
        "        if self.is_borrowed:\n",
        "            self.is_borrowed = False\n",
        "            print(f\"Book '{self.title}' by {self.author} has been returned.\")\n",
        "        else:\n",
        "            print(f\"Book '{self.title}' is not borrowed.\")\n",
        "\n",
        "\n",
        "class Library:\n",
        "    def __init__(self):\n",
        "        self.books = []\n",
        "\n",
        "    def add_book(self, book):\n",
        "        self.books.append(book)\n",
        "        print(f\"Book '{book.title}' by {book.author} has been added to the library.\")\n",
        "\n",
        "    def borrow_book(self, title):\n",
        "        for book in self.books:\n",
        "            if book.title == title:\n",
        "                book.borrow()\n",
        "                return\n",
        "        print(f\"Book '{title}' is not available in the library.\")\n",
        "\n",
        "    def return_book(self, title):\n",
        "        for book in self.books:\n",
        "            if book.title == title:\n",
        "                book.return_book()\n",
        "                return\n",
        "        print(f\"Book '{title}' is not available in the library.\")\n",
        "\n",
        "    def display_available_books(self):\n",
        "        if self.books:\n",
        "            print(\"Available Books:\")\n",
        "            for book in self.books:\n",
        "                if not book.is_borrowed:\n",
        "                    print(f\"'{book.title}' by {book.author}\")\n",
        "        else:\n",
        "            print(\"No books available in the library.\")\n",
        "\n",
        "\n",
        "# Example usage:\n",
        "if __name__ == \"__main__\":\n",
        "    # Create a library object\n",
        "    library = Library()\n",
        "\n",
        "    # Add some books to the library\n",
        "    book1 = Book(\"Python Crash Course\", \"Eric Matthes\")\n",
        "    book2 = Book(\"Deep Learning\", \"Ian Goodfellow\")\n",
        "    book3 = Book(\"The Great Gatsby\", \"F. Scott Fitzgerald\")\n",
        "    library.add_book(book1)\n",
        "    library.add_book(book2)\n",
        "    library.add_book(book3)\n",
        "\n",
        "    # Display available books\n",
        "    library.display_available_books()\n",
        "\n",
        "    # Borrow a book\n",
        "    library.borrow_book(\"Python Crash Course\")\n",
        "\n",
        "    # Return a book\n",
        "    library.return_book(\"Python Crash Course\")\n",
        "\n",
        "    # Display available books after returning\n",
        "    library.display_available_books()\n"
      ],
      "metadata": {
        "colab": {
          "base_uri": "https://localhost:8080/"
        },
        "id": "0GIC30i9ldr1",
        "outputId": "445e8ee0-a6ca-4fcb-a181-ff5ab251d486"
      },
      "execution_count": 8,
      "outputs": [
        {
          "output_type": "stream",
          "name": "stdout",
          "text": [
            "Book 'Python Crash Course' by Eric Matthes has been added to the library.\n",
            "Book 'Deep Learning' by Ian Goodfellow has been added to the library.\n",
            "Book 'The Great Gatsby' by F. Scott Fitzgerald has been added to the library.\n",
            "Available Books:\n",
            "'Python Crash Course' by Eric Matthes\n",
            "'Deep Learning' by Ian Goodfellow\n",
            "'The Great Gatsby' by F. Scott Fitzgerald\n",
            "Book 'Python Crash Course' by Eric Matthes has been borrowed.\n",
            "Book 'Python Crash Course' by Eric Matthes has been returned.\n",
            "Available Books:\n",
            "'Python Crash Course' by Eric Matthes\n",
            "'Deep Learning' by Ian Goodfellow\n",
            "'The Great Gatsby' by F. Scott Fitzgerald\n"
          ]
        }
      ]
    },
    {
      "cell_type": "code",
      "source": [
        "#Product Inventory Create classes representing a product and an inventory system. Implement methods to add products to the inventory, update product quantity, and display available products."
      ],
      "metadata": {
        "id": "BXbpzxyrltO1"
      },
      "execution_count": 9,
      "outputs": []
    },
    {
      "cell_type": "code",
      "source": [
        "class Product:\n",
        "    def __init__(self, name, price, quantity):\n",
        "        self.name = name\n",
        "        self.price = price\n",
        "        self.quantity = quantity\n",
        "\n",
        "    def update_quantity(self, quantity):\n",
        "        self.quantity += quantity\n",
        "        print(f\"Quantity of {self.name} updated to {self.quantity}.\")\n",
        "\n",
        "    def __str__(self):\n",
        "        return f\"Product: {self.name}, Price: ${self.price}, Quantity: {self.quantity}\"\n",
        "\n",
        "\n",
        "class Inventory:\n",
        "    def __init__(self):\n",
        "        self.products = []\n",
        "\n",
        "    def add_product(self, product):\n",
        "        self.products.append(product)\n",
        "        print(f\"Product '{product.name}' added to inventory.\")\n",
        "\n",
        "    def update_product_quantity(self, product_name, quantity):\n",
        "        for product in self.products:\n",
        "            if product.name == product_name:\n",
        "                product.update_quantity(quantity)\n",
        "                return\n",
        "        print(f\"Product '{product_name}' not found in inventory.\")\n",
        "\n",
        "    def display_available_products(self):\n",
        "        if self.products:\n",
        "            print(\"Available Products:\")\n",
        "            for product in self.products:\n",
        "                print(product)\n",
        "        else:\n",
        "            print(\"No products available in inventory.\")\n",
        "\n",
        "\n",
        "# Example usage:\n",
        "if __name__ == \"__main__\":\n",
        "    # Create an inventory object\n",
        "    inventory = Inventory()\n",
        "\n",
        "    # Add some products to the inventory\n",
        "    product1 = Product(\"Laptop\", 1000, 5)\n",
        "    product2 = Product(\"Phone\", 500, 10)\n",
        "    product3 = Product(\"Headphones\", 50, 20)\n",
        "    inventory.add_product(product1)\n",
        "    inventory.add_product(product2)\n",
        "    inventory.add_product(product3)\n",
        "\n",
        "    # Display available products\n",
        "    inventory.display_available_products()\n",
        "\n",
        "    # Update product quantity\n",
        "    inventory.update_product_quantity(\"Laptop\", -2)\n",
        "\n",
        "    # Display available products after updating quantity\n",
        "    inventory.display_available_products()\n"
      ],
      "metadata": {
        "colab": {
          "base_uri": "https://localhost:8080/"
        },
        "id": "pe25wLDWly0C",
        "outputId": "070b9359-c15c-42a4-9771-6b45bffb05ac"
      },
      "execution_count": 10,
      "outputs": [
        {
          "output_type": "stream",
          "name": "stdout",
          "text": [
            "Product 'Laptop' added to inventory.\n",
            "Product 'Phone' added to inventory.\n",
            "Product 'Headphones' added to inventory.\n",
            "Available Products:\n",
            "Product: Laptop, Price: $1000, Quantity: 5\n",
            "Product: Phone, Price: $500, Quantity: 10\n",
            "Product: Headphones, Price: $50, Quantity: 20\n",
            "Quantity of Laptop updated to 3.\n",
            "Available Products:\n",
            "Product: Laptop, Price: $1000, Quantity: 3\n",
            "Product: Phone, Price: $500, Quantity: 10\n",
            "Product: Headphones, Price: $50, Quantity: 20\n"
          ]
        }
      ]
    },
    {
      "cell_type": "code",
      "source": [
        "#Shape Calculation Create a class representing a shape with attributes like length, width, and height. Implement methods to calculate the area and perimeter of the shape."
      ],
      "metadata": {
        "id": "pT8as3nZl8A4"
      },
      "execution_count": 11,
      "outputs": []
    },
    {
      "cell_type": "code",
      "source": [
        "import math\n",
        "\n",
        "class Shape:\n",
        "    def __init__(self, length, width, height):\n",
        "        self.length = length\n",
        "        self.width = width\n",
        "        self.height = height\n",
        "\n",
        "    def calculate_area(self):\n",
        "        raise NotImplementedError(\"Subclasses must implement calculate_area method\")\n",
        "\n",
        "    def calculate_perimeter(self):\n",
        "        raise NotImplementedError(\"Subclasses must implement calculate_perimeter method\")\n",
        "\n",
        "\n",
        "class Rectangle(Shape):\n",
        "    def calculate_area(self):\n",
        "        return self.length * self.width\n",
        "\n",
        "    def calculate_perimeter(self):\n",
        "        return 2 * (self.length + self.width)\n",
        "\n",
        "\n",
        "class Triangle(Shape):\n",
        "    def calculate_area(self):\n",
        "        return 0.5 * self.base * self.height\n",
        "\n",
        "    def calculate_perimeter(self):\n",
        "        return self.length + self.width + self.height\n",
        "\n",
        "\n",
        "# Example usage:\n",
        "if __name__ == \"__main__\":\n",
        "    # Create a rectangle object\n",
        "    rectangle = Rectangle(length=5, width=3, height=None)\n",
        "\n",
        "    # Calculate and display area and perimeter of rectangle\n",
        "    print(\"Rectangle:\")\n",
        "    print(\"Area:\", rectangle.calculate_area())\n",
        "    print(\"Perimeter:\", rectangle.calculate_perimeter())\n",
        "\n",
        "    # Create a triangle object\n",
        "    triangle = Triangle(length=3, width=4, height=5)\n",
        "\n",
        "    # Calculate and display area and perimeter of triangle\n",
        "    print(\"\\nTriangle:\")\n",
        "    print(\"Area:\", triangle.calculate_area())\n",
        "    print(\"Perimeter:\", triangle.calculate_perimeter())\n"
      ],
      "metadata": {
        "id": "Ty-ZoalKl_i3"
      },
      "execution_count": 15,
      "outputs": []
    },
    {
      "cell_type": "code",
      "source": [
        "#Student Management Create a class representing a student with attributes like student ID, name, and grades. Implement methods to calculate the average grade and display student details."
      ],
      "metadata": {
        "id": "BNx2Y8n8mHZT"
      },
      "execution_count": 16,
      "outputs": []
    },
    {
      "cell_type": "code",
      "source": [
        "class Student:\n",
        "    def __init__(self, student_id, name, grades):\n",
        "        self.student_id = student_id\n",
        "        self.name = name\n",
        "        self.grades = grades\n",
        "\n",
        "    def calculate_average_grade(self):\n",
        "        if self.grades:\n",
        "            return sum(self.grades) / len(self.grades)\n",
        "        else:\n",
        "            return 0\n",
        "\n",
        "    def display_details(self):\n",
        "        print(f\"Student ID: {self.student_id}\")\n",
        "        print(f\"Name: {self.name}\")\n",
        "        print(\"Grades:\", self.grades)\n",
        "        print(f\"Average Grade: {self.calculate_average_grade()}\")\n",
        "\n",
        "\n",
        "# Example usage:\n",
        "if __name__ == \"__main__\":\n",
        "    # Create a student object\n",
        "    student = Student(student_id=\"S123456\", name=\"John Doe\", grades=[85, 90, 75, 95])\n",
        "\n",
        "    # Display student details\n",
        "    student.display_details()\n"
      ],
      "metadata": {
        "colab": {
          "base_uri": "https://localhost:8080/"
        },
        "id": "y20jjgLXmt1C",
        "outputId": "546d6530-346e-45b7-f3b0-cc5c46522873"
      },
      "execution_count": 17,
      "outputs": [
        {
          "output_type": "stream",
          "name": "stdout",
          "text": [
            "Student ID: S123456\n",
            "Name: John Doe\n",
            "Grades: [85, 90, 75, 95]\n",
            "Average Grade: 86.25\n"
          ]
        }
      ]
    },
    {
      "cell_type": "code",
      "source": [
        "#Email Management Create a class representing an email with attributes like sender, recipient, and subject. Implement methods to send an email and display email details."
      ],
      "metadata": {
        "id": "URUgUv7em0L4"
      },
      "execution_count": 18,
      "outputs": []
    },
    {
      "cell_type": "code",
      "source": [
        "class Email:\n",
        "    def __init__(self, sender, recipient, subject, message):\n",
        "        self.sender = sender\n",
        "        self.recipient = recipient\n",
        "        self.subject = subject\n",
        "        self.message = message\n",
        "\n",
        "    def send_email(self):\n",
        "        print(f\"Email sent from: {self.sender}\")\n",
        "        print(f\"Email sent to: {self.recipient}\")\n",
        "        print(f\"Subject: {self.subject}\")\n",
        "        print(\"Message:\")\n",
        "        print(self.message)\n",
        "\n",
        "    def display_details(self):\n",
        "        print(f\"Sender: {self.sender}\")\n",
        "        print(f\"Recipient: {self.recipient}\")\n",
        "        print(f\"Subject: {self.subject}\")\n",
        "        print(\"Message:\")\n",
        "        print(self.message)\n",
        "\n",
        "\n",
        "# Example usage:\n",
        "if __name__ == \"__main__\":\n",
        "    # Create an email object\n",
        "    email = Email(\n",
        "        sender=\"sender@example.com\",\n",
        "        recipient=\"recipient@example.com\",\n",
        "        subject=\"Test Email\",\n",
        "        message=\"This is a test email.\"\n",
        "    )\n",
        "\n",
        "    # Send the email\n",
        "    print(\"Sending email...\")\n",
        "    email.send_email()\n",
        "\n",
        "    # Display email details\n",
        "    print(\"\\nEmail Details:\")\n",
        "    email.display_details()\n"
      ],
      "metadata": {
        "colab": {
          "base_uri": "https://localhost:8080/"
        },
        "id": "OivwC7Imm361",
        "outputId": "6a402f5d-23ad-4129-8877-d93fc2999b73"
      },
      "execution_count": 19,
      "outputs": [
        {
          "output_type": "stream",
          "name": "stdout",
          "text": [
            "Sending email...\n",
            "Email sent from: sender@example.com\n",
            "Email sent to: recipient@example.com\n",
            "Subject: Test Email\n",
            "Message:\n",
            "This is a test email.\n",
            "\n",
            "Email Details:\n",
            "Sender: sender@example.com\n",
            "Recipient: recipient@example.com\n",
            "Subject: Test Email\n",
            "Message:\n",
            "This is a test email.\n"
          ]
        }
      ]
    },
    {
      "cell_type": "code",
      "source": [
        "#Social Media Profile Create a class representing a social media profile with attributes like username and posts. Implement methods to add posts, display posts, and search for posts by keyword"
      ],
      "metadata": {
        "id": "Bd2LZr_YnPjL"
      },
      "execution_count": 20,
      "outputs": []
    },
    {
      "cell_type": "code",
      "source": [
        "class SocialMediaProfile:\n",
        "    def __init__(self, username):\n",
        "        self.username = username\n",
        "        self.posts = []\n",
        "\n",
        "    def add_post(self, post_content):\n",
        "        self.posts.append(post_content)\n",
        "        print(f\"Post added to {self.username}'s profile.\")\n",
        "\n",
        "    def display_posts(self):\n",
        "        print(f\"Posts by {self.username}:\")\n",
        "        for idx, post in enumerate(self.posts, start=1):\n",
        "            print(f\"Post {idx}: {post}\")\n",
        "\n",
        "    def search_posts(self, keyword):\n",
        "        found_posts = [post for post in self.posts if keyword.lower() in post.lower()]\n",
        "        if found_posts:\n",
        "            print(f\"Posts containing '{keyword}':\")\n",
        "            for idx, post in enumerate(found_posts, start=1):\n",
        "                print(f\"Post {idx}: {post}\")\n",
        "        else:\n",
        "            print(f\"No posts found containing '{keyword}'.\")\n",
        "\n",
        "\n",
        "# Example usage:\n",
        "if __name__ == \"__main__\":\n",
        "    # Create a social media profile object\n",
        "    profile = SocialMediaProfile(username=\"JohnDoe\")\n",
        "\n",
        "    # Add some posts to the profile\n",
        "    profile.add_post(\"Had a great day at the beach!\")\n",
        "    profile.add_post(\"Just finished reading a fantastic book.\")\n",
        "    profile.add_post(\"Excited for the upcoming trip!\")\n",
        "\n",
        "    # Display all posts in the profile\n",
        "    profile.display_posts()\n",
        "\n",
        "    # Search for posts containing a keyword\n",
        "    keyword = \"beach\"\n",
        "    profile.search_posts(keyword)\n"
      ],
      "metadata": {
        "colab": {
          "base_uri": "https://localhost:8080/"
        },
        "id": "YNIabZF9nS7B",
        "outputId": "fa51c627-ead2-40e6-bba7-0412db36f55f"
      },
      "execution_count": 21,
      "outputs": [
        {
          "output_type": "stream",
          "name": "stdout",
          "text": [
            "Post added to JohnDoe's profile.\n",
            "Post added to JohnDoe's profile.\n",
            "Post added to JohnDoe's profile.\n",
            "Posts by JohnDoe:\n",
            "Post 1: Had a great day at the beach!\n",
            "Post 2: Just finished reading a fantastic book.\n",
            "Post 3: Excited for the upcoming trip!\n",
            "Posts containing 'beach':\n",
            "Post 1: Had a great day at the beach!\n"
          ]
        }
      ]
    },
    {
      "cell_type": "code",
      "source": [
        "#ToDo List Create a class representing a ToDo list with attributes like tasks and due dates. Implement methods to add tasks, mark tasks as completed, and display pending tasks."
      ],
      "metadata": {
        "id": "ZGb9IKrdnfnh"
      },
      "execution_count": 22,
      "outputs": []
    },
    {
      "cell_type": "code",
      "source": [
        "class ToDoList:\n",
        "    def __init__(self):\n",
        "        self.tasks = {}\n",
        "\n",
        "    def add_task(self, task, due_date):\n",
        "        self.tasks[task] = due_date\n",
        "        print(f\"Task '{task}' added to ToDo list with due date {due_date}.\")\n",
        "\n",
        "    def mark_task_completed(self, task):\n",
        "        if task in self.tasks:\n",
        "            del self.tasks[task]\n",
        "            print(f\"Task '{task}' marked as completed.\")\n",
        "        else:\n",
        "            print(f\"Task '{task}' not found in ToDo list.\")\n",
        "\n",
        "    def display_pending_tasks(self):\n",
        "        if self.tasks:\n",
        "            print(\"Pending Tasks:\")\n",
        "            for task, due_date in self.tasks.items():\n",
        "                print(f\"Task: {task}, Due Date: {due_date}\")\n",
        "        else:\n",
        "            print(\"No pending tasks in ToDo list.\")\n",
        "\n",
        "\n",
        "# Example usage:\n",
        "if __name__ == \"__main__\":\n",
        "    # Create a ToDo list object\n",
        "    todo_list = ToDoList()\n",
        "\n",
        "    # Add some tasks to the ToDo list\n",
        "    todo_list.add_task(task=\"Complete project\", due_date=\"2024-04-15\")\n",
        "    todo_list.add_task(task=\"Buy groceries\", due_date=\"2024-04-20\")\n",
        "    todo_list.add_task(task=\"Call client\", due_date=\"2024-04-10\")\n",
        "\n",
        "    # Display pending tasks\n",
        "    todo_list.display_pending_tasks()\n",
        "\n",
        "    # Mark a task as completed\n",
        "    todo_list.mark_task_completed(task=\"Call client\")\n",
        "\n",
        "    # Display pending tasks after marking task as completed\n",
        "    todo_list.display_pending_tasks()\n"
      ],
      "metadata": {
        "colab": {
          "base_uri": "https://localhost:8080/"
        },
        "id": "q7pUWf6LnlzO",
        "outputId": "cf48ec33-61a5-4e40-fcb9-17f862445da4"
      },
      "execution_count": 23,
      "outputs": [
        {
          "output_type": "stream",
          "name": "stdout",
          "text": [
            "Task 'Complete project' added to ToDo list with due date 2024-04-15.\n",
            "Task 'Buy groceries' added to ToDo list with due date 2024-04-20.\n",
            "Task 'Call client' added to ToDo list with due date 2024-04-10.\n",
            "Pending Tasks:\n",
            "Task: Complete project, Due Date: 2024-04-15\n",
            "Task: Buy groceries, Due Date: 2024-04-20\n",
            "Task: Call client, Due Date: 2024-04-10\n",
            "Task 'Call client' marked as completed.\n",
            "Pending Tasks:\n",
            "Task: Complete project, Due Date: 2024-04-15\n",
            "Task: Buy groceries, Due Date: 2024-04-20\n"
          ]
        }
      ]
    },
    {
      "cell_type": "code",
      "source": [],
      "metadata": {
        "id": "pWIvjY3unyvV"
      },
      "execution_count": null,
      "outputs": []
    }
  ]
}